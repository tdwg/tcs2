{
 "cells": [
  {
   "cell_type": "code",
   "execution_count": 11,
   "metadata": {},
   "outputs": [],
   "source": [
    "import yaml\n",
    "import json\n",
    "import vocab_build_tools as tools\n",
    "\n",
    "stream = open('./config.yaml', 'r')\n",
    "\n",
    "documents = yaml.load_all(stream, Loader=yaml.FullLoader)\n",
    "\n",
    "for doc in documents:\n",
    "    merged_df = tools.create_df(doc['termLists'])\n",
    "    config = doc\n",
    "\n",
    "examples = merged_df[~merged_df['examples'].isna()]\n",
    "\n",
    "classes = ['TaxonConcept', 'TaxonConceptMappings', 'TaxonName', 'NomenclaturalType']\n",
    "\n",
    "with open('../docs/examples/README.md', 'w') as f:\n",
    "    \n",
    "    f.write(\"# Examples\\n\\n\")\n",
    "    \n",
    "    for cl in classes:\n",
    "        f.write(\"\\n## \" + cl + \"\\n\\n\")\n",
    "        \n",
    "        for index, row in examples[examples['organizedInClass'] == 'http://rs.tdwg.org/tcs/terms/' + cl].iterrows():\n",
    "            alias = [n['vann_preferredNamespacePrefix'] for n in config['termLists'] if n['vann_preferredNamespaceUri'] == row['namespace']][0]\n",
    "            f.write(\"\\n### \" + alias + \":\" + row['localName'] + \"\\n\\n\") \n",
    "            \n",
    "            if type(row['examples']) == list:\n",
    "                for ex in row['examples']:\n",
    "                    f.write('#### ' + ex)\n",
    "                    text = tools.add_example(ex)\n",
    "                    f.write(text)\n"
   ]
  }
 ],
 "metadata": {
  "kernelspec": {
   "display_name": "Python 3",
   "language": "python",
   "name": "python3"
  },
  "language_info": {
   "codemirror_mode": {
    "name": "ipython",
    "version": 3
   },
   "file_extension": ".py",
   "mimetype": "text/x-python",
   "name": "python",
   "nbconvert_exporter": "python",
   "pygments_lexer": "ipython3",
   "version": "3.10.12"
  }
 },
 "nbformat": 4,
 "nbformat_minor": 2
}
