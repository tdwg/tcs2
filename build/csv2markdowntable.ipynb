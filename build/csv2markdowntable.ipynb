{
 "cells": [
  {
   "cell_type": "code",
   "execution_count": 1,
   "metadata": {},
   "outputs": [],
   "source": [
    "import pandas as pd"
   ]
  },
  {
   "cell_type": "code",
   "execution_count": 2,
   "metadata": {},
   "outputs": [],
   "source": [
    "def column_widths(df):\n",
    "  columns = df.columns.to_list()\n",
    "\n",
    "  column_widths = {}\n",
    "  for column in columns:\n",
    "    column_widths[column] = len(column)\n",
    "\n",
    "  for index, row in df.iterrows():\n",
    "    for column in columns:\n",
    "      if len(str(row[column])) > column_widths[column]:\n",
    "        column_widths[column] = len(str(row[column]))\n",
    "  return column_widths"
   ]
  },
  {
   "cell_type": "code",
   "execution_count": 3,
   "metadata": {},
   "outputs": [],
   "source": [
    "def markdown_table_row(row, column_widths):\n",
    "  values = []\n",
    "  for column, width in column_widths.items():\n",
    "     values.append('{:<{width}}'.format(row[column], width=width))\n",
    "  return '| ' + ' | '.join(values) + ' |'"
   ]
  },
  {
   "cell_type": "code",
   "execution_count": 4,
   "metadata": {},
   "outputs": [],
   "source": [
    "def markdown_table_header_row(column_widths):\n",
    "  values = []\n",
    "  for column, width in column_widths.items():\n",
    "    values.append('{:<{width}}'.format(column, width=width))\n",
    "  return '| ' + ' | '.join(values) + ' |'"
   ]
  },
  {
   "cell_type": "code",
   "execution_count": 9,
   "metadata": {},
   "outputs": [],
   "source": [
    "def markdown_table_spacer_row(column_widths):\n",
    "  values = []\n",
    "  for column, width in column_widths.items():\n",
    "    values.append('{:-<{width}}'.format('', width=width))\n",
    "  return '|-' + '-|-'.join(values) + '-|'"
   ]
  },
  {
   "cell_type": "code",
   "execution_count": 5,
   "metadata": {},
   "outputs": [],
   "source": [
    "def df_to_markdown_table(df):\n",
    "  widths = column_widths(df)\n",
    "  print(markdown_table_header_row(widths))\n",
    "  print(markdown_table_spacer_row(widths))\n",
    "  for index, row in df.iterrows():\n",
    "    print(markdown_table_row(row, widths))\n"
   ]
  },
  {
   "cell_type": "code",
   "execution_count": null,
   "metadata": {},
   "outputs": [],
   "source": [
    "df = pd.read_csv('../docs/examples/example4/ex4_taxon-concepts.csv')\n",
    "df_to_markdown_table(df)"
   ]
  },
  {
   "cell_type": "code",
   "execution_count": null,
   "metadata": {},
   "outputs": [],
   "source": [
    "df_relationships = pd.read_csv('../docs/examples/example4/ex4_taxon-relationships.csv')\n",
    "df_to_markdown_table(df_relationships)"
   ]
  },
  {
   "cell_type": "code",
   "execution_count": 6,
   "metadata": {},
   "outputs": [],
   "source": [
    "import csv\n",
    "\n",
    "def csv_column_widths(file):\n",
    "  column_widths = {}\n",
    "  with open(file) as csv_file:\n",
    "    reader = csv.DictReader(csv_file, delimiter=',')\n",
    "    index = 0\n",
    "    for row in reader:\n",
    "      if (index == 0):\n",
    "        for key in row.keys():\n",
    "          column_widths[key] = len(key)\n",
    "      for key in row.keys():\n",
    "        if (len(row[key]) > column_widths[key]):\n",
    "          column_widths[key] = len(row[key])\n",
    "      index += 1\n",
    "  return column_widths\n",
    "    "
   ]
  },
  {
   "cell_type": "code",
   "execution_count": 7,
   "metadata": {},
   "outputs": [],
   "source": [
    "def csv_to_markdown_table(file):\n",
    "  column_widths = csv_column_widths(file)\n",
    "  print('```')\n",
    "  print(markdown_table_header_row(column_widths))\n",
    "  print(markdown_table_spacer_row(column_widths))\n",
    "  with open(file) as csv_file:\n",
    "    reader = csv.DictReader(csv_file, delimiter=',')\n",
    "    for row in reader:\n",
    "      print(markdown_table_row(row, column_widths))\n",
    "  print('```')"
   ]
  },
  {
   "cell_type": "code",
   "execution_count": 10,
   "metadata": {},
   "outputs": [
    {
     "name": "stdout",
     "output_type": "stream",
     "text": [
      "\n",
      "### Taxon concepts\n",
      "\n",
      "```\n",
      "| id                                                       | prefLabel                                               | taxonName                              | accordingTo                                | comment                                                                                                                                                                                                                                                         |\n",
      "|----------------------------------------------------------|---------------------------------------------------------|----------------------------------------|--------------------------------------------|-----------------------------------------------------------------------------------------------------------------------------------------------------------------------------------------------------------------------------------------------------------------|\n",
      "| https://tdwg.github.io/tcs2/examples/taxon-concepts/4.1  | Campylium sec. Koperski et al. 2000                     | https://www.tropicos.org/name/35000208 | https://www.tropicos.org/reference/9022656 | Weltweit über 30 Arten, in Europa 9 Arten (incl. *C. laxifolium Engelmark & Hedenäs 1990) – Hedenäs (1997a) akzeptiert auch die Gattungen Campyliadelphus und Campylophyllum und stellt Campylium polygamum zur Gattung Drepanocladus.                          |\n",
      "| https://tdwg.github.io/tcs2/examples/taxon-concepts/4.2  | Amblystegium sec. Koperski et al. 2000                  | https://www.tropicos.org/name/35000040 | https://www.tropicos.org/reference/9022656 | Weltweit etwa 35 Arten, in Europa 8 Arten. Abweichedn von Corley & al. Wird in Übereinstimmung mit Anderson & al. (1990), Ignatoc & Afonina (1992), Blockeel & Long (1998) sowie Crosby & al. (1999) Leptodictyum als Gattung akzeptiert (s. auch Hedenäs 1990a |\n",
      "| https://tdwg.github.io/tcs2/examples/taxon-concepts/4.3  | Platydictya sec. Koperski et al. 2000                   | https://www.tropicos.org/name/35000970 | https://www.tropicos.org/reference/9022656 | Weltweit 7 Arten, in Europa 1 Art.                                                                                                                                                                                                                              |\n",
      "| https://tdwg.github.io/tcs2/examples/taxon-concepts/4.4  | Leptodictyum sec. Koperski et al. 2000                  | https://www.tropicos.org/name/35000692 | https://www.tropicos.org/reference/9022656 | Weltweit 8 Arten, in Europa 1 Art. In Übereinstimmung mit Anderson & al. (1990), Ignatoc & Afonina (1992), Blockeel & Long (1998) sowie Crosby & al. (1999) Leptodictyum als Gattung akzeptiert (s. auch Hedenäs 1990a).                                        |\n",
      "| https://tdwg.github.io/tcs2/examples/taxon-concepts/4.5  | Conardia sec. Koperski et al. 2000                      | https://www.tropicos.org/name/35000290 | https://www.tropicos.org/reference/9022656 | Weltweit 1 Art.                                                                                                                                                                                                                                                 |\n",
      "| https://tdwg.github.io/tcs2/examples/taxon-concepts/4.6  | Campylium sec. Corley et al. 1981                       | https://www.tropicos.org/name/35000208 | https://www.tropicos.org/reference/9004554 |                                                                                                                                                                                                                                                                 |\n",
      "| https://tdwg.github.io/tcs2/examples/taxon-concepts/4.11 | Amblystegium sec. Corley et al. 1981                    | https://www.tropicos.org/name/35000040 | https://www.tropicos.org/reference/9004554 |                                                                                                                                                                                                                                                                 |\n",
      "| https://tdwg.github.io/tcs2/examples/taxon-concepts/4.20 | Platydictya sec. Corley et al. 1981                     | https://www.tropicos.org/name/35000970 | https://www.tropicos.org/reference/9004554 |                                                                                                                                                                                                                                                                 |\n",
      "| https://tdwg.github.io/tcs2/examples/taxon-concepts/4.24 | Amblystegium subg. Leptodictyum sec. Corley et al. 1981 | https://www.tropicos.org/name/35102656 | https://www.tropicos.org/reference/9004554 |                                                                                                                                                                                                                                                                 |\n",
      "| https://tdwg.github.io/tcs2/examples/taxon-concepts/4.25 | Conardia sec. Corley et al. 1981                        | https://www.tropicos.org/name/35000290 | https://www.tropicos.org/reference/9004554 |                                                                                                                                                                                                                                                                 |\n",
      "| https://tdwg.github.io/tcs2/examples/taxon-concepts/4.10 | Campylium sec. Frahm & Frey 1992                        | https://www.tropicos.org/name/35000208 | https://www.tropicos.org/reference/9011497 |                                                                                                                                                                                                                                                                 |\n",
      "| https://tdwg.github.io/tcs2/examples/taxon-concepts/4.12 | Amblystegium sec. Frahm & Frey 1992                     | https://www.tropicos.org/name/35000040 | https://www.tropicos.org/reference/9011497 |                                                                                                                                                                                                                                                                 |\n",
      "| https://tdwg.github.io/tcs2/examples/taxon-concepts/4.13 | Hygroamblystegium sec. Frahm & Frey 1992                | https://www.tropicos.org/name/35000612 | https://www.tropicos.org/reference/9011497 |                                                                                                                                                                                                                                                                 |\n",
      "| https://tdwg.github.io/tcs2/examples/taxon-concepts/4.15 | Amblystegiella sec. Frahm & Frey 1992                   | https://www.tropicos.org/name/35000039 | https://www.tropicos.org/reference/9011497 |                                                                                                                                                                                                                                                                 |\n",
      "| https://tdwg.github.io/tcs2/examples/taxon-concepts/4.16 | Campylium sec. Frahm & Frey 1992                        | https://www.tropicos.org/name/35000208 | https://www.tropicos.org/reference/9011497 |                                                                                                                                                                                                                                                                 |\n",
      "| https://tdwg.github.io/tcs2/examples/taxon-concepts/4.22 | Leptodictyum sec. Frahm & Frey 1992                     | https://www.tropicos.org/name/35000692 | https://www.tropicos.org/reference/9011497 |                                                                                                                                                                                                                                                                 |\n",
      "| https://tdwg.github.io/tcs2/examples/taxon-concepts/4.26 | Rhynchostegiella sec. Frahm & Frey 1992                 | https://www.tropicos.org/name/35001131 | https://www.tropicos.org/reference/9011497 |                                                                                                                                                                                                                                                                 |\n",
      "| https://tdwg.github.io/tcs2/examples/taxon-concepts/4.17 | Amblystegium sec. Moenkemeyer 1927                      | https://www.tropicos.org/name/35000040 | https://www.tropicos.org/reference/9021085 |                                                                                                                                                                                                                                                                 |\n",
      "| https://tdwg.github.io/tcs2/examples/taxon-concepts/4.8  | Chrysohypnum sec. Moenkemeyer 1927                      | https://www.tropicos.org/name/35000256 | https://www.tropicos.org/reference/9021085 |                                                                                                                                                                                                                                                                 |\n",
      "| https://tdwg.github.io/tcs2/examples/taxon-concepts/4.9  | Drepanocladus sec. Moenkemeyer 1927                     | https://www.tropicos.org/name/35000413 | https://www.tropicos.org/reference/9021085 |                                                                                                                                                                                                                                                                 |\n",
      "| https://tdwg.github.io/tcs2/examples/taxon-concepts/4.14 | Hygroamblystegium sec. Moenkemeyer 1927                 | https://www.tropicos.org/name/35000612 | https://www.tropicos.org/reference/9021085 |                                                                                                                                                                                                                                                                 |\n",
      "| https://tdwg.github.io/tcs2/examples/taxon-concepts/4.21 | Amblystegium sect. Serpoleskea sec. Moenkemeyer 1927    | https://www.tropicos.org/name/35102679 | https://www.tropicos.org/reference/9021085 |                                                                                                                                                                                                                                                                 |\n",
      "| https://tdwg.github.io/tcs2/examples/taxon-concepts/4.23 | Amblystegium sect. Leptodictyum sec. Moenkemeyer 1927   | https://www.tropicos.org/name/35102656 | https://www.tropicos.org/reference/9021085 |                                                                                                                                                                                                                                                                 |\n",
      "| https://tdwg.github.io/tcs2/examples/taxon-concepts/4.7  | Campylium sec. Smith 1980                               | https://www.tropicos.org/name/35000208 | https://www.tropicos.org/reference/9007023 |                                                                                                                                                                                                                                                                 |\n",
      "| https://tdwg.github.io/tcs2/examples/taxon-concepts/4.18 | Amblystegium sec. Smith 1980                            | https://www.tropicos.org/name/35000040 | https://www.tropicos.org/reference/9007023 |                                                                                                                                                                                                                                                                 |\n",
      "| https://tdwg.github.io/tcs2/examples/taxon-concepts/4.19 | Platydictya sec. Smith 1980                             | https://www.tropicos.org/name/35000970 | https://www.tropicos.org/reference/9007023 |                                                                                                                                                                                                                                                                 |\n",
      "```\n",
      "None\n",
      "\n",
      "### Synonyms\n",
      "\n",
      "```\n",
      "| taxonConcept                                            | taxonName                              |\n",
      "|---------------------------------------------------------|----------------------------------------|\n",
      "| https://tdwg.github.io/tcs2/examples/taxon-concepts/4.1 | https://www.tropicos.org/name/35000207 |\n",
      "| https://tdwg.github.io/tcs2/examples/taxon-concepts/4.1 | https://www.tropicos.org/name/35000213 |\n",
      "| https://tdwg.github.io/tcs2/examples/taxon-concepts/4.1 | https://www.tropicos.org/name/35000256 |\n",
      "| https://tdwg.github.io/tcs2/examples/taxon-concepts/4.2 | https://www.tropicos.org/name/35000612 |\n",
      "```\n",
      "None\n",
      "\n",
      "### Taxon relationships\n",
      "\n",
      "```\n",
      "| id                                                            | relationshipType                                                    | subjectTaxonConcept                                     | objectTaxonConcept                                       | relationshipAccordingTo                    | comment                                                                                                                                                                                                                                                         |\n",
      "|---------------------------------------------------------------|---------------------------------------------------------------------|---------------------------------------------------------|----------------------------------------------------------|--------------------------------------------|-----------------------------------------------------------------------------------------------------------------------------------------------------------------------------------------------------------------------------------------------------------------|\n",
      "| https://tdwg.github.io/tcs2/examples/taxon-relationships/4.1  | http://rs.tdwg.org/tcs-taxon-concept-relationship-type/values/rt001 | https://tdwg.github.io/tcs2/examples/taxon-concepts/4.1 | https://tdwg.github.io/tcs2/examples/taxon-concepts/4.6  | https://www.tropicos.org/reference/9022656 |                                                                                                                                                                                                                                                                 |\n",
      "| https://tdwg.github.io/tcs2/examples/taxon-relationships/4.2  | http://rs.tdwg.org/tcs-taxon-concept-relationship-type/values/rt002 | https://tdwg.github.io/tcs2/examples/taxon-concepts/4.1 | https://tdwg.github.io/tcs2/examples/taxon-concepts/4.7  | https://www.tropicos.org/reference/9022656 | excl. *C. longicuspis (Lindb. & Arnell) Hedenäs (syn. *Amblystegium l. Lindb. & Arnell, *Drepanocladus l. (Lindb. & Arnell) Broth., Pseudoclliergon l. (Lindb. & Arnell) Loeske), da Hedenäs diese Kombination erst 1989 schuf. Es bleibt unklar zu welcher Gat |\n",
      "| https://tdwg.github.io/tcs2/examples/taxon-relationships/4.3  | http://rs.tdwg.org/tcs-taxon-concept-relationship-type/values/rt004 | https://tdwg.github.io/tcs2/examples/taxon-concepts/4.1 | https://tdwg.github.io/tcs2/examples/taxon-concepts/4.8  | https://www.tropicos.org/reference/9022656 | incl. Amblystegium radicale (Chrysohypnum hygrophyllum); excl. * Campylium longicuspis (Lindb. & Arnell) Hedenäs (Drepanocladus l.).                                                                                                                            |\n",
      "| https://tdwg.github.io/tcs2/examples/taxon-relationships/4.4  | http://rs.tdwg.org/tcs-taxon-concept-relationship-type/values/rt004 | https://tdwg.github.io/tcs2/examples/taxon-concepts/4.1 | https://tdwg.github.io/tcs2/examples/taxon-concepts/4.9  | https://www.tropicos.org/reference/9022656 | incl. * Campylium longicuspis (Lindb. & Arnell) Hedenäs (Drepanocladus l.)                                                                                                                                                                                      |\n",
      "| https://tdwg.github.io/tcs2/examples/taxon-relationships/4.5  | http://rs.tdwg.org/tcs-taxon-concept-relationship-type/values/rt006 | https://tdwg.github.io/tcs2/examples/taxon-concepts/4.1 | https://tdwg.github.io/tcs2/examples/taxon-concepts/4.10 | https://www.tropicos.org/reference/9022656 | incl. Amblystegium radicale (Campylium r.). Wahrscheinlich excl. *C. longicuspis (Lindb. & Arnell) Hedenäs. Dieses arktische Taxon wird vermutlich nicht in das Gattungskonzept einbezogen, da Hedenäs erst 1989 diese Kombination schuf. Es bleibt unklar zu w |\n",
      "| https://tdwg.github.io/tcs2/examples/taxon-relationships/4.6  | http://rs.tdwg.org/tcs-taxon-concept-relationship-type/values/rt003 | https://tdwg.github.io/tcs2/examples/taxon-concepts/4.2 | https://tdwg.github.io/tcs2/examples/taxon-concepts/4.11 | https://www.tropicos.org/reference/9022656 | incl. Leptodictyum riparium (Amblystegium r.)                                                                                                                                                                                                                   |\n",
      "| https://tdwg.github.io/tcs2/examples/taxon-relationships/4.7  | http://rs.tdwg.org/tcs-taxon-concept-relationship-type/values/rt002 | https://tdwg.github.io/tcs2/examples/taxon-concepts/4.2 | https://tdwg.github.io/tcs2/examples/taxon-concepts/4.12 | https://www.tropicos.org/reference/9022656 | excl. Amblystegium confervoides (Amblystegiella c.), A. subtile (Amblystegiella s.), A. fluviatile (Hygroamblystegium f.), A. tenax (Hygroambystegium t.), A. radicale (Campylium r.)                                                                           |\n",
      "| https://tdwg.github.io/tcs2/examples/taxon-relationships/4.8  | http://rs.tdwg.org/tcs-taxon-concept-relationship-type/values/rt002 | https://tdwg.github.io/tcs2/examples/taxon-concepts/4.2 | https://tdwg.github.io/tcs2/examples/taxon-concepts/4.13 | https://www.tropicos.org/reference/9022656 |                                                                                                                                                                                                                                                                 |\n",
      "| https://tdwg.github.io/tcs2/examples/taxon-relationships/4.9  | http://rs.tdwg.org/tcs-taxon-concept-relationship-type/values/rt002 | https://tdwg.github.io/tcs2/examples/taxon-concepts/4.2 | https://tdwg.github.io/tcs2/examples/taxon-concepts/4.14 | https://www.tropicos.org/reference/9022656 |                                                                                                                                                                                                                                                                 |\n",
      "| https://tdwg.github.io/tcs2/examples/taxon-relationships/4.10 | http://rs.tdwg.org/tcs-taxon-concept-relationship-type/values/rt004 | https://tdwg.github.io/tcs2/examples/taxon-concepts/4.2 | https://tdwg.github.io/tcs2/examples/taxon-concepts/4.15 | https://www.tropicos.org/reference/9022656 | incl. Amblystegium confervoides (Amblystegiella c.), Amblystegium subtile (Amblystegiella s.)                                                                                                                                                                   |\n",
      "| https://tdwg.github.io/tcs2/examples/taxon-relationships/4.11 | http://rs.tdwg.org/tcs-taxon-concept-relationship-type/values/rt004 | https://tdwg.github.io/tcs2/examples/taxon-concepts/4.2 | https://tdwg.github.io/tcs2/examples/taxon-concepts/4.16 | https://www.tropicos.org/reference/9022656 | incl. Amblystegium radicale (Campylium r.). Wahrscheinlich excl. *C. longicuspis (Lindb. & Arnell) Hedenäs. Dieses arktische Taxon wird vermutlich nicht in das Gattungskonzept einbezogen, da Hedenäs erst 1989 diese Kombination schuf. Es bleibt unklar zu w |\n",
      "| https://tdwg.github.io/tcs2/examples/taxon-relationships/4.11 | http://rs.tdwg.org/tcs-taxon-concept-relationship-type/values/rt004 | https://tdwg.github.io/tcs2/examples/taxon-concepts/4.2 | https://tdwg.github.io/tcs2/examples/taxon-concepts/4.17 | https://www.tropicos.org/reference/9022656 | incl. Conardia compacta (Amblystegium c.), *Isopterygiopsis alpicola (Lind. & Arnell) Hedenäs (Amblystegium a.), Leptodictyum riparium (Amblystegium r.), Platydictya jungermannioides (Amblystegium sprucei), Pseudoleskeella catenulata p.p. (Amblystegium ur |\n",
      "| https://tdwg.github.io/tcs2/examples/taxon-relationships/4.12 | http://rs.tdwg.org/tcs-taxon-concept-relationship-type/values/rt004 | https://tdwg.github.io/tcs2/examples/taxon-concepts/4.2 | https://tdwg.github.io/tcs2/examples/taxon-concepts/4.8  | https://www.tropicos.org/reference/9022656 | incl. Amblystegium radicale (Chrysohypnum hygrophilum)                                                                                                                                                                                                          |\n",
      "| https://tdwg.github.io/tcs2/examples/taxon-relationships/4.13 | http://rs.tdwg.org/tcs-taxon-concept-relationship-type/values/rt004 | https://tdwg.github.io/tcs2/examples/taxon-concepts/4.2 | https://tdwg.github.io/tcs2/examples/taxon-concepts/4.18 | https://www.tropicos.org/reference/9022656 | incl. Conardia compacta (Amblystegium c.), Leptodictyum riparium (Amblystegium r.); excl. Amblystegium confervioides (Platydictya c.)                                                                                                                           |\n",
      "| https://tdwg.github.io/tcs2/examples/taxon-relationships/4.14 | http://rs.tdwg.org/tcs-taxon-concept-relationship-type/values/rt004 | https://tdwg.github.io/tcs2/examples/taxon-concepts/4.2 | https://tdwg.github.io/tcs2/examples/taxon-concepts/4.19 | https://www.tropicos.org/reference/9022656 | incl. Amblystegium confervoides (Platydictya c.)                                                                                                                                                                                                                |\n",
      "| https://tdwg.github.io/tcs2/examples/taxon-relationships/4.15 | http://rs.tdwg.org/tcs-taxon-concept-relationship-type/values/rt001 | https://tdwg.github.io/tcs2/examples/taxon-concepts/4.3 | https://tdwg.github.io/tcs2/examples/taxon-concepts/4.20 | https://www.tropicos.org/reference/9022656 |                                                                                                                                                                                                                                                                 |\n",
      "| https://tdwg.github.io/tcs2/examples/taxon-relationships/4.16 | http://rs.tdwg.org/tcs-taxon-concept-relationship-type/values/rt003 | https://tdwg.github.io/tcs2/examples/taxon-concepts/4.3 | https://tdwg.github.io/tcs2/examples/taxon-concepts/4.15 | https://www.tropicos.org/reference/9022656 | incl. Amblystegium confervoides (Amblystegiella c.), Amblystegium subtile (Amblystegiella s.), Amblystegium subtile (Amblystegiella s.)                                                                                                                         |\n",
      "| https://tdwg.github.io/tcs2/examples/taxon-relationships/4.17 | http://rs.tdwg.org/tcs-taxon-concept-relationship-type/values/rt003 | https://tdwg.github.io/tcs2/examples/taxon-concepts/4.3 | https://tdwg.github.io/tcs2/examples/taxon-concepts/4.17 | https://www.tropicos.org/reference/9022656 |                                                                                                                                                                                                                                                                 |\n",
      "| https://tdwg.github.io/tcs2/examples/taxon-relationships/4.18 | http://rs.tdwg.org/tcs-taxon-concept-relationship-type/values/rt003 | https://tdwg.github.io/tcs2/examples/taxon-concepts/4.3 | https://tdwg.github.io/tcs2/examples/taxon-concepts/4.21 | https://www.tropicos.org/reference/9022656 | incl. Amblystegium confervoides, A. subtile, *Isopterygiopsis alpicola (Lindb. & Arnell) Hedenäs (Amblystegium a.), Pseudoleskeella catenulata (Amblystegium ursorum) sowie ^Homomallium adnatum (Hedw.) Broth. (Amblystegium a.), einem in Europa nicht nachge |\n",
      "| https://tdwg.github.io/tcs2/examples/taxon-relationships/4.19 | http://rs.tdwg.org/tcs-taxon-concept-relationship-type/values/rt003 | https://tdwg.github.io/tcs2/examples/taxon-concepts/4.3 | https://tdwg.github.io/tcs2/examples/taxon-concepts/4.19 | https://www.tropicos.org/reference/9022656 | incl. Amblystegium confervoides (Platydictya c.)                                                                                                                                                                                                                |\n",
      "| https://tdwg.github.io/tcs2/examples/taxon-relationships/4.20 | http://rs.tdwg.org/tcs-taxon-concept-relationship-type/values/rt001 | https://tdwg.github.io/tcs2/examples/taxon-concepts/4.4 | https://tdwg.github.io/tcs2/examples/taxon-concepts/4.22 | https://www.tropicos.org/reference/9022656 |                                                                                                                                                                                                                                                                 |\n",
      "| https://tdwg.github.io/tcs2/examples/taxon-relationships/4.21 | http://rs.tdwg.org/tcs-taxon-concept-relationship-type/values/rt001 | https://tdwg.github.io/tcs2/examples/taxon-concepts/4.4 | https://tdwg.github.io/tcs2/examples/taxon-concepts/4.23 | https://www.tropicos.org/reference/9022656 |                                                                                                                                                                                                                                                                 |\n",
      "| https://tdwg.github.io/tcs2/examples/taxon-relationships/4.22 | http://rs.tdwg.org/tcs-taxon-concept-relationship-type/values/rt003 | https://tdwg.github.io/tcs2/examples/taxon-concepts/4.4 | https://tdwg.github.io/tcs2/examples/taxon-concepts/4.11 | https://www.tropicos.org/reference/9022656 |                                                                                                                                                                                                                                                                 |\n",
      "| https://tdwg.github.io/tcs2/examples/taxon-relationships/4.23 | http://rs.tdwg.org/tcs-taxon-concept-relationship-type/values/rt003 | https://tdwg.github.io/tcs2/examples/taxon-concepts/4.4 | https://tdwg.github.io/tcs2/examples/taxon-concepts/4.24 | https://www.tropicos.org/reference/9022656 | incl. Amblystegium humile                                                                                                                                                                                                                                       |\n",
      "| https://tdwg.github.io/tcs2/examples/taxon-relationships/4.24 | http://rs.tdwg.org/tcs-taxon-concept-relationship-type/values/rt003 | https://tdwg.github.io/tcs2/examples/taxon-concepts/4.4 | https://tdwg.github.io/tcs2/examples/taxon-concepts/4.17 | https://www.tropicos.org/reference/9022656 |                                                                                                                                                                                                                                                                 |\n",
      "| https://tdwg.github.io/tcs2/examples/taxon-relationships/4.25 | http://rs.tdwg.org/tcs-taxon-concept-relationship-type/values/rt003 | https://tdwg.github.io/tcs2/examples/taxon-concepts/4.4 | https://tdwg.github.io/tcs2/examples/taxon-concepts/4.18 | https://www.tropicos.org/reference/9022656 |                                                                                                                                                                                                                                                                 |\n",
      "| https://tdwg.github.io/tcs2/examples/taxon-relationships/4.26 | http://rs.tdwg.org/tcs-taxon-concept-relationship-type/values/rt001 | https://tdwg.github.io/tcs2/examples/taxon-concepts/4.5 | https://tdwg.github.io/tcs2/examples/taxon-concepts/4.25 | https://www.tropicos.org/reference/9022656 |                                                                                                                                                                                                                                                                 |\n",
      "| https://tdwg.github.io/tcs2/examples/taxon-relationships/4.27 | http://rs.tdwg.org/tcs-taxon-concept-relationship-type/values/rt003 | https://tdwg.github.io/tcs2/examples/taxon-concepts/4.5 | https://tdwg.github.io/tcs2/examples/taxon-concepts/4.26 | https://www.tropicos.org/reference/9022656 |                                                                                                                                                                                                                                                                 |\n",
      "| https://tdwg.github.io/tcs2/examples/taxon-relationships/4.28 | http://rs.tdwg.org/tcs-taxon-concept-relationship-type/values/rt003 | https://tdwg.github.io/tcs2/examples/taxon-concepts/4.5 | https://tdwg.github.io/tcs2/examples/taxon-concepts/4.17 | https://www.tropicos.org/reference/9022656 |                                                                                                                                                                                                                                                                 |\n",
      "| https://tdwg.github.io/tcs2/examples/taxon-relationships/4.29 | http://rs.tdwg.org/tcs-taxon-concept-relationship-type/values/rt003 | https://tdwg.github.io/tcs2/examples/taxon-concepts/4.5 | https://tdwg.github.io/tcs2/examples/taxon-concepts/4.18 | https://www.tropicos.org/reference/9022656 |                                                                                                                                                                                                                                                                 |\n",
      "```\n",
      "None\n",
      "\n",
      "### References\n",
      "\n",
      "```\n",
      "| id                                         | citation                 | itemType       | date | authorList                                                          | title                                                                                                   | publicationTitle    | ISBN          | pages   | numPages | issue | volume | shortTitle | series                                                                                 | number | publisher                  | place              | language | edition  |\n",
      "|--------------------------------------------|--------------------------|----------------|------|---------------------------------------------------------------------|---------------------------------------------------------------------------------------------------------|---------------------|---------------|---------|----------|-------|--------|------------|----------------------------------------------------------------------------------------|--------|----------------------------|--------------------|----------|----------|\n",
      "| https://www.tropicos.org/reference/9022656 | Koperski et al., 2000    | book           | 2000 | Koperski, Monica; Sauer, Michael; Braun, Walter; Gradstein, S. Rob  | Referenzliste der Moose Deutschlands, Dokumentation unterschiedlicher taxonomischer Auffassungen        |                     | 3-7843-3504-7 |         | 519      |       |        |            | Schriftenreihe für Vegetationskunde                                                    | 34     | Bundersamt für Naturschutz | Bonn-Bad Godesberg | German   |          |\n",
      "| https://www.tropicos.org/reference/9004554 | Corley et al., 1981      | journalArticle | 1981 | Corley, M.F.V.; Crundwell, A.C.; Düll, R.; Hill, M.O.; Smith, A.J.E | Mosses of Europe and the Azores; an annotated list of species, with synonyms from the recent literature | Journal of Bryology |               | 173-177 |          | 4     | 11     | J. Bryol.  |                                                                                        |        |                            |                    |          |          |\n",
      "| https://www.tropicos.org/reference/9011497 | Frahm & Frey, 1992       | book           | 1992 | Frahm, J.-P.; Frey, W.                                              | Moosflora                                                                                               |                     |               |         | 528      |       |        |            | Uni-Taschenb.                                                                          | 1250   | Ulmer                      | Stuttgart          |          | 3. Aufl. |\n",
      "| https://www.tropicos.org/reference/9021085 | Mönkemeyer, 1927         | book           | 1927 | Mönkemeyer, W.                                                      | Die Laubmoose Europas                                                                                   |                     |               |         | 960      |       | Bd. IV |            | Rabenhorst, G.L. [Begr.]: Kryptogamenflora von Deutschland, Österreich und der Schweiz |        | Geest & Portig             | Leipzig            |          |          |\n",
      "| https://www.tropicos.org/reference/9007023 | Smith, 1980              | book           | 1980 | Smith, A.J.E                                                        | The moss flora of Britain and Ireland                                                                   |                     |               |         |          |       |        |            |                                                                                        |        | Cambridge University Press | Cambridge          |          |          |\n",
      "| https://www.tropicos.org/reference/9010070 | Corley & Crundwell, 1991 | journalArticle | 1991 | Corley, M.F.V.; Crundwell, A.C.                                     | Additions and amendments of the mosses of Europe and the Azores                                         | Journal of Bryology |               | 337-356 |          | 3     | 16     | J. Bryol.  |                                                                                        |        |                            |                    |          |          |\n",
      "```\n",
      "None\n",
      "\n",
      "### Taxon names\n",
      "\n",
      "```\n",
      "| id                                     | taxonNameString                 | scientificNameAuthorship | namePublishedIn                              | basionym                               | nomenclaturalStatus                                                  |\n",
      "|----------------------------------------|---------------------------------|--------------------------|----------------------------------------------|----------------------------------------|----------------------------------------------------------------------|\n",
      "| https://www.tropicos.org/name/35000040 | Amblystegium                    | Schimp.                  | Bryol. Eur. 6: 45 (1853)                     |                                        |                                                                      |\n",
      "| https://www.tropicos.org/name/35000208 | Campylium                       | (Sull.) Mitt.            | J. Linn. Soc., Bot. 12: 631 (1809)           | https://www.tropicos.org/name/35101380 |                                                                      |\n",
      "| https://www.tropicos.org/name/35000970 | Platydictya                     | Berk.                    | Handb. Brit. Mosses: 145 (1863)              |                                        |                                                                      |\n",
      "| https://www.tropicos.org/name/35000692 | Leptodictyum                    | (Schimp.) Warnst.        | Krypt.-Fl. Brandenburg, Laubm. 2: 840 (1906) | https://www.tropicos.org/name/35102656 |                                                                      |\n",
      "| https://www.tropicos.org/name/35000290 | Conardia                        | H.Rob.                   | Phytologia 33: 294 (1976)                    |                                        |                                                                      |\n",
      "| https://www.tropicos.org/name/35000612 | Hygroamblystegium               | Loeske                   | Moosfl. Harz.: 298 (1903)                    |                                        |                                                                      |\n",
      "| https://www.tropicos.org/name/35101380 | Hypnum subg. Campylium          | Sull.                    | Man. Bot. (A. Eaton), ed. 2: 677 (1856)      |                                        |                                                                      |\n",
      "| https://www.tropicos.org/name/35000207 | Campyliadelphus                 | (Kindb.) R.S.Chopra      | Taxon. Indian Mosses: 442 (1975)             |                                        |                                                                      |\n",
      "| https://www.tropicos.org/name/35000213 | Campylophyllum                  | (Schimp.) M.Fleisch.     | Nova Guinea 12(2): 123 (1914)                |                                        |                                                                      |\n",
      "| https://www.tropicos.org/name/35000256 | Chrysohypnum                    | G.Roth                   | Hedwigia 38(Beibl. 1): 6 (1899)              |                                        | http://rs.gbif.org/vocabulary/gbif/nomenclatural_status/superfluum   |\n",
      "| https://www.tropicos.org/name/35000413 | Drepanocladus                   | (Müll.Hal.) G.Roth       | Hedwigia 38(Beibl. 1): 6 (1899)              |                                        |                                                                      |\n",
      "| https://www.tropicos.org/name/35000039 | Amblystegiella                  | Loeske                   | Moosfl. Harz.: 294 (1903)                    |                                        | http://rs.gbif.org/vocabulary/gbif/nomenclatural_status/superfluum   |\n",
      "| https://www.tropicos.org/name/35102679 | Amblystegium sect. Serpoleskea  | (Limpr.) Mönk.           | Laubm. Eur.: 730 (1927)                      |                                        |                                                                      |\n",
      "| https://www.tropicos.org/name/35102656 | Amblystegium subg. Leptodictyum | Schimp.                  | Syn. Musc. Eur.: 595 (1860)                  |                                        |                                                                      |\n",
      "| https://www.tropicos.org/name/35001131 | Rhynchostegiella                | (Schimp.) Limpr.         | Laubm. Deutschl. 3: 207 (1896)               |                                        | http://rs.gbif.org/vocabulary/gbif/nomenclatural_status/conservandum |\n",
      "```\n",
      "None\n"
     ]
    }
   ],
   "source": [
    "file = '../docs/examples/example4/datapackage/taxon-concepts.csv'\n",
    "print('\\n### Taxon concepts\\n')\n",
    "print(csv_to_markdown_table(file))\n",
    "\n",
    "file = '../docs/examples/example4/datapackage/synonyms.csv'\n",
    "print('\\n### Synonyms\\n')\n",
    "print(csv_to_markdown_table(file))\n",
    "\n",
    "file = '../docs/examples/example4/datapackage/taxon-relationships.csv'\n",
    "print('\\n### Taxon relationships\\n')\n",
    "print(csv_to_markdown_table(file))\n",
    "\n",
    "file = '../docs/examples/example4/datapackage/references.csv'\n",
    "print('\\n### References\\n')\n",
    "print(csv_to_markdown_table(file))\n",
    "\n",
    "file = '../docs/examples/example4/datapackage/taxon-names.csv'\n",
    "print('\\n### Taxon names\\n')\n",
    "print(csv_to_markdown_table(file))\n",
    "\n",
    "\n"
   ]
  }
 ],
 "metadata": {
  "kernelspec": {
   "display_name": "Python 3.9.13 ('base')",
   "language": "python",
   "name": "python3"
  },
  "language_info": {
   "codemirror_mode": {
    "name": "ipython",
    "version": 3
   },
   "file_extension": ".py",
   "mimetype": "text/x-python",
   "name": "python",
   "nbconvert_exporter": "python",
   "pygments_lexer": "ipython3",
   "version": "3.9.13"
  },
  "orig_nbformat": 4,
  "vscode": {
   "interpreter": {
    "hash": "317975251ec2bbd8cb6426c25deef72630f6fe44713a9272783e4cc03f4faf5c"
   }
  }
 },
 "nbformat": 4,
 "nbformat_minor": 2
}
